{
 "cells": [
  {
   "cell_type": "code",
   "execution_count": 1,
   "metadata": {},
   "outputs": [],
   "source": [
    "import numpy as np\n",
    "from numba import jit\n",
    "import time\n",
    "from scipy.interpolate import interp1d\n",
    "\n",
    "G=1\n",
    "c=1\n",
    "M01 = 1.474 * 10**3\n",
    "\n",
    "G1 = 6.67*10**(-11)             ############ N m^2/ kg^2\n",
    "c1 = 3*10**(8)                  ############ m / s\n",
    "\n",
    "Mev_fm3_to_GU = 1.6* 10**32 * G1/c1**4\n",
    "\n",
    "\n",
    "from numba import jit\n",
    "@jit(nopython = True)\n",
    "def love_number(C,y):\n",
    "  k2 = 8 / 5 * C ** 5 * (1 - 2 * C) **(2) * (2 + 2 * C * (y - 1) - y) * (2 * C * (6 - 3 * y + 3 * C * (5 * y - 8)) + 4 * C ** 3 * (13 - 11 * y + C * (3 * y - 2) + 2 * C ** 2 * (1 + y)) + 3 * (1 - 2 * C) ** 2 * (2 - y + 2 * C * (y - 1)) * (np.log(1 - 2 * C))) ** (-1)\n",
    "  return k2\n",
    "\n",
    "\n",
    "@jit(nopython = True)\n",
    "def beta_and_H(r, p, H, m, beta, parr, earr):\n",
    "    dp = p * 0.005\n",
    "\n",
    "    el_3 = en_dens(parr, earr, p - 3 * dp)\n",
    "    el_2 = en_dens(parr, earr, p - 2 * dp)\n",
    "    el_1 = en_dens(parr, earr, p - 1 * dp)\n",
    "    er_3 = en_dens(parr, earr, p + 3 * dp)\n",
    "    er_2 = en_dens(parr, earr, p + 2 * dp)\n",
    "    er_1 = en_dens(parr, earr, p + 1 * dp)\n",
    "\n",
    "    de_dp = (-1 / 60 * el_3 + 3 / 20 * el_2 - 3 / 4 * el_1 + 3 / 4 * er_1 - 3 / 20 * er_2 + 1 / 60 * er_3) / dp\n",
    "\n",
    "    #G = 6.67430e-11  # Gravitational constant\n",
    "    #c = 299792458.0  # Speed of light\n",
    "    G = 1\n",
    "    c = 1\n",
    "\n",
    "    e = en_dens(parr, earr, p)\n",
    "    dbeta_dr = 2 * (1 - 2 * m / r ) ** (-1) *H * (-2 * np.pi * G / c ** 2 * (5 * e + 9 * p / c ** 2 + de_dp * c ** 2 * (e + p / c ** 2)) + 3 / r ** 2 + 2 * (1 - 2 * m / r ) ** (-1) * ( m / r ** 2 + G / c ** 4 * 4 * np.pi * r * p) ** 2) + 2 * (1 - 2 * m / r ) ** (-1) *beta / r * (-1 + m / r + 2 * np.pi * r ** 2 * G / c ** 2 * (e - p / c ** 2))\n",
    "\n",
    "    dHdr = beta\n",
    "    return dbeta_dr, dHdr\n",
    "\n",
    "@jit(nopython=True)\n",
    "def en_dens(parr, earr, p):\n",
    "  if p < min(parr) or p > max(parr):\n",
    "    e = 0\n",
    "  else:\n",
    "    e = ene_interp(parr, earr, p)\n",
    "  return e\n",
    "\n",
    "@jit(nopython = True)\n",
    "def find_ind(arr, val):\n",
    "    for i, item in enumerate(arr):\n",
    "        if val > item:\n",
    "            continue\n",
    "        else:\n",
    "            return i\n",
    "    return len(arr)\n",
    "\n",
    "class PressureOutOfRangeError(Exception):\n",
    "    pass\n",
    "\n",
    "@jit(nopython = True)\n",
    "def en_dens(parr, earr, p):\n",
    "  if p < min(parr) or p > max(parr):\n",
    "    e = 0\n",
    "  else:\n",
    "    e = ene_interp(parr, earr, p)\n",
    "  return e\n",
    "\n",
    "\n",
    "@jit(nopython = True)\n",
    "def ene_interp(pre_arr, ene_arr, pressure):\n",
    "    if pressure < min(pre_arr) or pressure > max(pre_arr):\n",
    "        raise PressureOutOfRangeError(\"Pressure is out of range.\")\n",
    "    else:\n",
    "        ind = find_ind(pre_arr, pressure)\n",
    "        left_p = pre_arr[ind - 1]\n",
    "        right_p = pre_arr[ind]\n",
    "        left_e = ene_arr[ind-1]\n",
    "        right_e = ene_arr[ind]\n",
    "        ene_val = (pressure - left_p)*(right_e - left_e)/(right_p - left_p) + left_e\n",
    "    return ene_val\n",
    "\n",
    "@jit(nopython = True)\n",
    "def pre_interp(pre_arr, ene_arr, energy):\n",
    "    if energy < min(ene_arr) or energy > max(ene_arr):\n",
    "        raise PressureOutOfRangeError(\"Energy is out of range.\")\n",
    "    else:\n",
    "        ind = find_ind(ene_arr, energy)\n",
    "        left_p = pre_arr[ind - 1]\n",
    "        right_p = pre_arr[ind]\n",
    "        left_e = ene_arr[ind-1]\n",
    "        right_e = ene_arr[ind]\n",
    "        pre_val = (energy - left_e)*(right_p - left_p)/(right_e - left_e) + left_p\n",
    "    return pre_val\n",
    "\n",
    "def cs2_interp(cs2_arr, pre_arr, pressure):\n",
    "    if pressure < min(pre_arr) or pressure > max(pre_arr):\n",
    "        raise PressureOutOfRangeError(\"Pressure is out of range.\")\n",
    "    else:\n",
    "        ind = find_ind(pre_arr, pressure)\n",
    "        left_c = cs2_arr[ind - 1]\n",
    "        right_c = cs2_arr[ind]\n",
    "        left_p = pre_arr[ind-1]\n",
    "        right_p = pre_arr[ind]\n",
    "        cs2_val = (pressure - left_p)*(right_c - left_c)/(right_p - left_p) + left_c\n",
    "    return cs2_val\n",
    "\n",
    "@jit(nopython = True)\n",
    "def Tov_eqn(P, r, m, dens, press, G, c, min_pressure):\n",
    "    if P < min_pressure:\n",
    "        return 0.0\n",
    "    else:\n",
    "        eden = ene_interp(press, dens, P)\n",
    "        return -(G * ((P / c ** 2) + eden) * (m + 4 * np.pi * r ** 3 * P / c ** 2)) / (r * (r - 2 * G * m / c ** 2))\n",
    "\n",
    "@jit(nopython = True)\n",
    "def mass_eqn(r, ene):\n",
    "    return 4 * np.pi * r ** 2 * ene\n",
    "\n",
    "\n",
    "def TOV_module(cen_dens, pressure, density, exit_Pre,love=False, to_print=False):\n",
    "    asi = 0\n",
    "    P_exit =exit_Pre\n",
    "    for i in range(len(cen_dens)):\n",
    "        press = np.array(pressure)\n",
    "        dens = np.array(density)\n",
    "        d = cen_dens[i]\n",
    "        P0 = pre_interp(press, dens, d)\n",
    "        r = 10\n",
    "        P = P0\n",
    "        m = mass_eqn(r,d)\n",
    "        h = 1\n",
    "        a0 = 1\n",
    "        H0 = a0*r**2\n",
    "        beta0 = 2*a0*r\n",
    "        min_pressure = min(press)\n",
    "        beta = beta0\n",
    "        H = H0\n",
    "        if  love == True:\n",
    "            #print(\"Entering Love loop\")\n",
    "            while P > P_exit :\n",
    "                k1_m = mass_eqn(r, ene_interp(press, dens, P))\n",
    "                k2_m = mass_eqn(r + h / 2, ene_interp(press, dens, P))\n",
    "                k3_m = mass_eqn(r + h / 2, ene_interp(press, dens, P))\n",
    "                k4_m = mass_eqn(r + h, ene_interp(press, dens, P))\n",
    "\n",
    "                k1_p = Tov_eqn(P, r, m, dens, press, G, c, min_pressure)\n",
    "                k2_p = Tov_eqn(P + k1_p * h / 2, r + h / 2, m + k1_m * h / 2, dens, press, G, c, min_pressure)\n",
    "                k3_p = Tov_eqn(P + k2_p * h / 2, r + h / 2, m + k2_m * h / 2, dens, press, G, c, min_pressure)\n",
    "                k4_p = Tov_eqn(P + k3_p * h, r + h, m + k3_m * h, dens, press, G, c, min_pressure)\n",
    "\n",
    "                k1_dbeta_dr, k1_dHdr = beta_and_H(r, P, H, m, beta, press, dens)\n",
    "                k2_dbeta_dr, k2_dHdr = beta_and_H(r + 0.5 * h, P + 0.5 * h * k1_p, H + 0.5 * h * k1_dHdr, m + 0.5*h*k1_m, beta + 0.5*h*k1_dbeta_dr, press, dens)\n",
    "                k3_dbeta_dr, k3_dHdr = beta_and_H(r + 0.5 * h, P + 0.5 * h * k2_p, H + 0.5 * h * k2_dHdr, m + 0.5*h*k2_m, beta + 0.5*h*k2_dbeta_dr, press, dens)\n",
    "                k4_dbeta_dr, k4_dHdr = beta_and_H(r + h, P + h * k3_p, H + h * k3_dHdr, m + h*k3_m, beta + h*k3_dbeta_dr, press, dens)\n",
    "\n",
    "                beta = beta + (h / 6.0) * (k1_dbeta_dr + 2 * k2_dbeta_dr + 2 * k3_dbeta_dr + k4_dbeta_dr)\n",
    "                H = H + (h / 6.0) * (k1_dHdr + 2 * k2_dHdr + 2 * k3_dHdr + k4_dHdr)\n",
    "                P += h * (k1_p + 2 * k2_p + 2 * k3_p + k4_p) / 6\n",
    "                m += h * (k1_m + 2 * k2_m + 2 * k3_m + k4_m) / 6\n",
    "                r += h\n",
    "            R.append(r/1000)\n",
    "            M.append(m/M01)\n",
    "            y = r * beta/ (H)\n",
    "            C = m/(r)\n",
    "            k2 = love_number(C,y)\n",
    "            Com.append(C)\n",
    "            Love.append(k2)\n",
    "            if to_print == True:\n",
    "                print(\"star \", i,\" done\")\n",
    "        else:\n",
    "            #print(\"Entering No Love loop\")\n",
    "            while P > P_exit :\n",
    "                k1_m = mass_eqn(r, ene_interp(press, dens, P))\n",
    "                k2_m = mass_eqn(r + h / 2, ene_interp(press, dens, P))\n",
    "                k3_m = mass_eqn(r + h / 2, ene_interp(press, dens, P))\n",
    "                k4_m = mass_eqn(r + h, ene_interp(press, dens, P))\n",
    "\n",
    "                k1_p = Tov_eqn(P, r, m, dens, press, G, c, min_pressure)\n",
    "                k2_p = Tov_eqn(P + k1_p * h / 2, r + h / 2, m + k1_m * h / 2, dens, press, G, c, min_pressure)\n",
    "                k3_p = Tov_eqn(P + k2_p * h / 2, r + h / 2, m + k2_m * h / 2, dens, press, G, c, min_pressure)\n",
    "                k4_p = Tov_eqn(P + k3_p * h, r + h, m + k3_m * h, dens, press, G, c, min_pressure)\n",
    "\n",
    "                P += h * (k1_p + 2 * k2_p + 2 * k3_p + k4_p) / 6\n",
    "                m += h * (k1_m + 2 * k2_m + 2 * k3_m + k4_m) / 6\n",
    "                r += h\n",
    "            R.append(r/1000)\n",
    "            M.append(m/M01)\n",
    "            if to_print == True:\n",
    "                print(\"star \", i,\" done\")\n",
    "    return R,M,Com,Love"
   ]
  },
  {
   "cell_type": "code",
   "execution_count": 2,
   "metadata": {},
   "outputs": [],
   "source": [
    "import numpy as np\n",
    "import matplotlib.pyplot as plt\n",
    "\n",
    "\n",
    "data1 = np.loadtxt('eos_DD2BPS_hadronic_cs2.csv', delimiter=',',skiprows=1)"
   ]
  },
  {
   "cell_type": "code",
   "execution_count": 3,
   "metadata": {},
   "outputs": [
    {
     "name": "stdout",
     "output_type": "stream",
     "text": [
      "3.3839594469135796e-09 2.2416865382716047e-09\n",
      "4.8682238419753086e-20 1.9990764049382715e-25\n"
     ]
    }
   ],
   "source": [
    "data1G1 = 6.67*10**(-11)             ############ N m^2/ kg^2\n",
    "c1 = 3*10**(8)  \n",
    "\n",
    "Mev_fm3_to_GU = 1.6* 10**32 * G1/c1**4\n",
    "\n",
    "density_dat = data1[:, 2]\n",
    "pressure_dat = data1[:, 3]\n",
    "\n",
    "# sound_speed_dat = data1[:,2]\n",
    "\n",
    "density_dat_GU = density_dat*Mev_fm3_to_GU\n",
    "pressure_dat_GU = pressure_dat*Mev_fm3_to_GU\n",
    "\n",
    "# density_dat_GU.astype(np.float64)\n",
    "# pressure_dat_GU.astype(np.float64)\n",
    "\n",
    "print(np.max(density_dat_GU), np.max(pressure_dat_GU))\n",
    "print(np.min(density_dat_GU), np.min(pressure_dat_GU))\n",
    "\n",
    "# print(density_dat_GU)\n",
    "\n"
   ]
  },
  {
   "cell_type": "code",
   "execution_count": 4,
   "metadata": {},
   "outputs": [
    {
     "data": {
      "text/plain": [
       "<matplotlib.collections.PathCollection at 0x3021ba850>"
      ]
     },
     "execution_count": 4,
     "metadata": {},
     "output_type": "execute_result"
    },
    {
     "data": {
      "image/png": "[encoded data removed]",
      "text/plain": [
       "<Figure size 640x480 with 1 Axes>"
      ]
     },
     "metadata": {},
     "output_type": "display_data"
    }
   ],
   "source": [
    "plt.plot(density_dat, pressure_dat, label='EOS')\n",
    "plt.scatter(density_dat, pressure_dat, label='EOS')"
   ]
  },
  {
   "cell_type": "code",
   "execution_count": 5,
   "metadata": {},
   "outputs": [
    {
     "name": "stdout",
     "output_type": "stream",
     "text": [
      "3.3805754874666724e-09 2.072392843084521e-10 2.691593876576457e-09\n"
     ]
    }
   ],
   "source": [
    "central_energy = np.logspace(np.log10(np.max(density_dat_GU)*0.999),np.log10( 2.072392843084521e-10),50)\n",
    "#central_energy = np.asarray(central_energy[1])\n",
    "print(np.max(central_energy), np.min(central_energy),central_energy[4])"
   ]
  },
  {
   "cell_type": "code",
   "execution_count": 6,
   "metadata": {},
   "outputs": [
    {
     "name": "stdout",
     "output_type": "stream",
     "text": [
      "star  0  done\n",
      "star  1  done\n",
      "star  2  done\n",
      "star  3  done\n",
      "star  4  done\n",
      "star  5  done\n",
      "star  6  done\n",
      "star  7  done\n",
      "star  8  done\n",
      "star  9  done\n",
      "star  10  done\n",
      "star  11  done\n",
      "star  12  done\n",
      "star  13  done\n",
      "star  14  done\n",
      "star  15  done\n",
      "star  16  done\n",
      "star  17  done\n",
      "star  18  done\n",
      "star  19  done\n",
      "star  20  done\n",
      "star  21  done\n",
      "star  22  done\n",
      "star  23  done\n",
      "star  24  done\n",
      "star  25  done\n",
      "star  26  done\n",
      "star  27  done\n",
      "star  28  done\n",
      "star  29  done\n",
      "star  30  done\n",
      "star  31  done\n",
      "star  32  done\n",
      "star  33  done\n",
      "star  34  done\n",
      "star  35  done\n",
      "star  36  done\n",
      "star  37  done\n",
      "star  38  done\n",
      "star  39  done\n",
      "star  40  done\n",
      "star  41  done\n",
      "star  42  done\n",
      "star  43  done\n",
      "star  44  done\n",
      "star  45  done\n",
      "star  46  done\n",
      "star  47  done\n",
      "star  48  done\n",
      "star  49  done\n"
     ]
    }
   ],
   "source": [
    "M= []\n",
    "R = []\n",
    "Com = []\n",
    "Love = []\n",
    "\n",
    "R,M,Com,Love = TOV_module(central_energy, pressure_dat_GU,density_dat_GU,exit_Pre=np.min(1.1*pressure_dat_GU),love=True,to_print=True)"
   ]
  },
  {
   "cell_type": "code",
   "execution_count": 68,
   "metadata": {},
   "outputs": [
    {
     "data": {
      "text/plain": [
       "Text(0, 0.5, 'M/Msun')"
      ]
     },
     "execution_count": 68,
     "metadata": {},
     "output_type": "execute_result"
    },
    {
     "data": {
      "image/png": "[encoded data removed]",
      "text/plain": [
       "<Figure size 640x480 with 1 Axes>"
      ]
     },
     "metadata": {},
     "output_type": "display_data"
    }
   ],
   "source": [
    "plt.plot(R,M, label='TOV')\n",
    "plt.scatter(R,M, label='TOV')\n",
    "plt.xlabel('R (km)')\n",
    "plt.ylabel('M/Msun')"
   ]
  },
  {
   "cell_type": "code",
   "execution_count": 69,
   "metadata": {},
   "outputs": [],
   "source": [
    "## Tidal Deformability Calculation\n",
    "\n",
    "def Lambda(k2, C):\n",
    "    return (2/3)*k2*C**(-5.0)\n",
    "\n"
   ]
  },
  {
   "cell_type": "code",
   "execution_count": 70,
   "metadata": {},
   "outputs": [
    {
     "name": "stdout",
     "output_type": "stream",
     "text": [
      "[1.         1.05386667 1.11653333 1.1808     1.24666667 1.31413333\n",
      " 1.36       1.36       1.36       1.36      ]\n",
      "[1.36       1.38666667 1.41333333 1.44       1.46666667 1.49333333\n",
      " 1.52       1.54666667 1.57333333 1.6       ]\n",
      "[13.02542715 13.04966676 13.07842235 13.10682271 13.13428258 13.15936877\n",
      " 13.17533224 13.17533224 13.17533224 13.17533224]\n",
      "[0.11582233 0.11460055 0.1121844  0.10954792 0.10660588 0.10305146\n",
      " 0.10044091 0.10044091 0.10044091 0.10044091]\n",
      "[0.1521446  0.15502662 0.15792111 0.1608156  0.1637101  0.16660459\n",
      " 0.16952191 0.17244367 0.17536543 0.17828719] [0.11315267 0.11903273 0.12582765 0.13278542 0.13990032 0.14718905\n",
      " 0.1521446  0.1521446  0.1521446  0.1521446 ]\n",
      "M_TOV =  2.4270743421656706\n",
      "R_1.6 =  13.228034737373656\n"
     ]
    }
   ],
   "source": [
    "\n",
    "m1 = np.linspace(1.36,1.60,10)\n",
    "\n",
    "\n",
    "# m2 = np.linspace(1.16,1.36,10)\n",
    "#q = np.asarray([0.73,0.80,0.87,0.95])\n",
    "\n",
    "q = np.linspace(0.73,1.00,10)\n",
    "\n",
    "m2 = m1*q\n",
    "\n",
    "for i in range(len(m2)):\n",
    "    if m2[i] > 1.36:\n",
    "        m2[i] = 1.36\n",
    "    if m2[i] < 1.00:\n",
    "        m2[i]= 1.00\n",
    "\n",
    "\n",
    "\n",
    "print(m2)\n",
    "print(m1)\n",
    "\n",
    "radius_from_mass = interp1d(M,R,fill_value='extrapolate')\n",
    "\n",
    "r1 = radius_from_mass(m1)\n",
    "r2 = radius_from_mass(m2)\n",
    "\n",
    "print(r2)\n",
    "\n",
    "love_from_mass = interp1d(M,Love,fill_value='extrapolate')\n",
    "Compactness_from_mass = interp1d(M,Com,fill_value='extrapolate')\n",
    "\n",
    "love1 = love_from_mass(m1)\n",
    "love2 = love_from_mass(m2)\n",
    "\n",
    "C1 = Compactness_from_mass(m1)\n",
    "C2 = Compactness_from_mass(m2)\n",
    "\n",
    "print(love2)\n",
    "\n",
    "print(C1, C2)\n",
    "\n",
    "print('M_TOV = ',np.max(M))\n",
    "print('R_1.6 = ', radius_from_mass(1.6))"
   ]
  },
  {
   "cell_type": "code",
   "execution_count": 71,
   "metadata": {},
   "outputs": [
    {
     "name": "stdout",
     "output_type": "stream",
     "text": [
      "[821.36585032 736.45591515 660.42371675 593.07325442 533.30256714\n",
      " 480.16412285 432.47312795 389.90620892 351.91564395 317.95691914]\n",
      "[4162.71860605 3197.15373698 2371.15960752 1769.13488536 1326.16148834\n",
      "  994.45547391  821.36585032  821.36585032  821.36585032  821.36585032]\n"
     ]
    }
   ],
   "source": [
    "lam1 = Lambda(love1,C1)\n",
    "lam2 = Lambda(love2,C2)\n",
    "\n",
    "print(lam1)\n",
    "print(lam2)"
   ]
  },
  {
   "cell_type": "markdown",
   "metadata": {},
   "source": [
    "## Dietric et.al 2017 ejecta Mass Equation"
   ]
  },
  {
   "cell_type": "code",
   "execution_count": 72,
   "metadata": {},
   "outputs": [],
   "source": [
    "def dietrich_ejecta_equation(m1,m2):\n",
    "\n",
    "    msun = 1.9885e33\n",
    "\n",
    "    C1 = Compactness_from_mass(m1)\n",
    "    C2 = Compactness_from_mass(m2)\n",
    "\n",
    "    q = m2/m1\n",
    "\n",
    "    m1_b = ((m1/msun)+(13/200)*(m1/msun)**2)*msun\n",
    "    m2_b = ((m2/msun)+(13/200)*(m2/msun)**2)*msun\n",
    "\n",
    "    Mej = (-1.36595*((m2/m1)**(1/3))*(1/C1 - 2) + 6.11252*(m2/m1)**(-2.5484)-49.43355*(1-m1/m1_b))*m1_b +  (-1.36595*((m1/m2)**1/3)*(1/C2 - 2) + 6.11252*(m1/m2)**(-2.5484)-49.43355*(1-m2/m2_b))*m2_b + 16.1144\n",
    "\n",
    "    Mej = Mej*msun*1e-3\n",
    "\n",
    "    return q,Mej"
   ]
  },
  {
   "cell_type": "code",
   "execution_count": 80,
   "metadata": {},
   "outputs": [],
   "source": [
    "\n",
    "def coughlin_ejecta_equation(m1,m2,lambda1,lambda2,params):\n",
    "    \n",
    "    c = 2.99792458e10\n",
    "    G = 6.67e-8  # Gravitational constant\n",
    "\n",
    "    global Msun\n",
    "    Msun = 1.9885e33  # Solar mass in grams\n",
    "\n",
    "    b1 = params\n",
    "\n",
    "    q = m2/m1\n",
    "\n",
    "    C1 = Compactness_from_mass(m1)\n",
    "    C2 = Compactness_from_mass(m2)\n",
    "\n",
    "    # M_thr = G*(2.4270743421656706)*Msun/(c**2*(13.228034737373656)*1e5)\n",
    "\n",
    "    # log_ej = (b1*m1*((1/(0.360-0.0355*np.log(lambda1)+0.000705*np.log(lambda1)**2)) - 1)+ 0.2116*m2*(m1/m2)**(-2.905)-2.42/2)+(b1*m2*((1/(0.360-0.0355*np.log(lambda2)+0.000705*np.log(lambda2)**2)) - 1)+ 0.2116*m1*(m2/m1)**(-2.905)-2.42/2)\n",
    "\n",
    "    log_ej = (b1*m1*((1/C1) - 2)+ 0.2116*m2*(m1/m2)**(-2.905)-2.42/2)+(b1*m2*((1/C2) - 2)+ 0.2116*m1*(m2/m1)**(-2.905)-2.42/2)\n",
    "\n",
    "    M_dyn = 10**(log_ej)*1.9885e33\n",
    "\n",
    "    # log_M_disc = np.maximum(-3,-31.335*(1-0.976*np.arctan((1.0474-(m1+m2)/(2.4270743421656706))/0.05957)))\n",
    "    # M_disc = 10**(log_M_disc)*1.9885e33\n",
    "\n",
    "    Mej = M_dyn #+ M_disc \n",
    "\n",
    "    # if Mej < 1e-6:\n",
    "    #     print(Mej)\n",
    "\n",
    "    return q, Mej\n",
    "\n",
    "    # print(f'The ejecta mass is: {Mej/Msun} Msun \\n')\n",
    "    # print(f'The parameter values are m1 = {m1} , m2 = {m2} , lambda1 = {lambda1} , lambda2 = {lambda2} and b1 = {params}\\n')\n",
    "\n",
    "    # if write:\n",
    "    #     with open('ejecta_mass.txt', 'a') as f:\n",
    "    #         f.write(f'{m1} {m2} {lambda1} {lambda2} {Mej/Msun} {params}\\n')\n"
   ]
  },
  {
   "cell_type": "code",
   "execution_count": 81,
   "metadata": {},
   "outputs": [],
   "source": [
    "q,Mej = coughlin_ejecta_equation(m1,m2,lam1,lam2,-0.0719)\n",
    "\n",
    "q1,Mej1 = dietrich_ejecta_equation(m1,m2)"
   ]
  },
  {
   "cell_type": "code",
   "execution_count": 82,
   "metadata": {},
   "outputs": [
    {
     "data": {
      "text/plain": [
       "(array([5.36322654e+30, 5.02885079e+30, 4.71080365e+30, 4.51753476e+30,\n",
       "        4.42564421e+30, 4.42323220e+30, 4.54892830e+30, 4.81402225e+30,\n",
       "        5.12136370e+30, 5.47697373e+30]),\n",
       " array([0.73529412, 0.76      , 0.79      , 0.82      , 0.85      ,\n",
       "        0.88      , 0.89473684, 0.87931034, 0.86440678, 0.85      ]))"
      ]
     },
     "execution_count": 82,
     "metadata": {},
     "output_type": "execute_result"
    }
   ],
   "source": [
    "Mej,q"
   ]
  },
  {
   "cell_type": "code",
   "execution_count": 83,
   "metadata": {},
   "outputs": [
    {
     "data": {
      "text/plain": [
       "array([5.01203429e+31, 4.89945558e+31, 4.78254292e+31, 4.70679415e+31,\n",
       "       4.66923280e+31, 4.66781905e+31, 4.72191637e+31, 4.83518357e+31,\n",
       "       4.95833811e+31, 5.09133984e+31])"
      ]
     },
     "execution_count": 83,
     "metadata": {},
     "output_type": "execute_result"
    }
   ],
   "source": [
    "Mej1"
   ]
  },
  {
   "cell_type": "code",
   "execution_count": 84,
   "metadata": {},
   "outputs": [
    {
     "data": {
      "text/plain": [
       "Text(0.5, 1.0, 'Ejecta_Comparison_DD2')"
      ]
     },
     "execution_count": 84,
     "metadata": {},
     "output_type": "execute_result"
    },
    {
     "data": {
      "image/png": "[encoded data removed]",
      "text/plain": [
       "<Figure size 640x480 with 1 Axes>"
      ]
     },
     "metadata": {},
     "output_type": "display_data"
    }
   ],
   "source": [
    "plt.plot(q,Mej/Msun,label = 'Coughlin et. al')\n",
    "plt.plot(q1,Mej1/Msun,label = 'Dietruich et. al')\n",
    "plt.legend()\n",
    "\n",
    "plt.xlabel('q')\n",
    "plt.ylabel(r'Ejecta Mass($M_\\odot$)')\n",
    "\n",
    "plt.title('Ejecta_Comparison_DD2')\n",
    "# plt.savefig('Fig/Ejecta_Comparison_DD2.png')"
   ]
  },
  {
   "cell_type": "code",
   "execution_count": 78,
   "metadata": {},
   "outputs": [
    {
     "data": {
      "text/plain": [
       "array([0.0252051 , 0.02463895, 0.02405101, 0.02367007, 0.02348118,\n",
       "       0.02347407, 0.02374612, 0.02431573, 0.02493507, 0.02560392])"
      ]
     },
     "execution_count": 78,
     "metadata": {},
     "output_type": "execute_result"
    }
   ],
   "source": [
    "Mej1/Msun"
   ]
  },
  {
   "cell_type": "code",
   "execution_count": null,
   "metadata": {},
   "outputs": [],
   "source": []
  }
 ],
 "metadata": {
  "kernelspec": {
   "display_name": "Thesis",
   "language": "python",
   "name": "python3"
  },
  "language_info": {
   "codemirror_mode": {
    "name": "ipython",
    "version": 3
   },
   "file_extension": ".py",
   "mimetype": "text/x-python",
   "name": "python",
   "nbconvert_exporter": "python",
   "pygments_lexer": "ipython3",
   "version": "3.11.9"
  }
 },
 "nbformat": 4,
 "nbformat_minor": 2
}

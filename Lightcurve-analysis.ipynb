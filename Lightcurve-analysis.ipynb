{
 "cells": [
  {
   "cell_type": "code",
   "execution_count": 1,
   "metadata": {},
   "outputs": [],
   "source": [
    "import numpy as np\n",
    "from numba import jit,vectorize\n",
    "import time\n",
    "from scipy.interpolate import interp1d\n",
    "\n",
    "G=1\n",
    "c=1\n",
    "M01 = 1.474 * 10**3\n",
    "\n",
    "G1 = 6.67*10**(-11)             ############ N m^2/ kg^2\n",
    "c1 = 3*10**(8)                  ############ m / s\n",
    "\n",
    "Mev_fm3_to_GU = 1.6* 10**32 * G1/c1**4\n",
    "\n",
    "\n",
    "from numba import jit\n",
    "@jit(nopython = True, parallel = True)\n",
    "def love_number(C,y):\n",
    "  k2 = 8 / 5 * C ** 5 * (1 - 2 * C) **(2) * (2 + 2 * C * (y - 1) - y) * (2 * C * (6 - 3 * y + 3 * C * (5 * y - 8)) + 4 * C ** 3 * (13 - 11 * y + C * (3 * y - 2) + 2 * C ** 2 * (1 + y)) + 3 * (1 - 2 * C) ** 2 * (2 - y + 2 * C * (y - 1)) * (np.log(1 - 2 * C))) ** (-1)\n",
    "  return k2\n",
    "\n",
    "\n",
    "#@jit(nopython = True)\n",
    "def beta_and_H(r, p, H, m, beta, parr, earr):\n",
    "    dp = p * 0.005\n",
    "\n",
    "    el_3 = en_dens(parr, earr, p - 3 * dp)\n",
    "    el_2 = en_dens(parr, earr, p - 2 * dp)\n",
    "    el_1 = en_dens(parr, earr, p - 1 * dp)\n",
    "    er_3 = en_dens(parr, earr, p + 3 * dp)\n",
    "    er_2 = en_dens(parr, earr, p + 2 * dp)\n",
    "    er_1 = en_dens(parr, earr, p + 1 * dp)\n",
    "\n",
    "    de_dp = (-1 / 60 * el_3 + 3 / 20 * el_2 - 3 / 4 * el_1 + 3 / 4 * er_1 - 3 / 20 * er_2 + 1 / 60 * er_3) / dp\n",
    "\n",
    "    #G = 6.67430e-11  # Gravitational constant\n",
    "    #c = 299792458.0  # Speed of light\n",
    "    G = 1\n",
    "    c = 1\n",
    "\n",
    "    e = en_dens(parr, earr, p)\n",
    "    dbeta_dr = 2 * (1 - 2 * m / r ) ** (-1) *H * (-2 * np.pi * G / c ** 2 * (5 * e + 9 * p / c ** 2 + de_dp * c ** 2 * (e + p / c ** 2)) + 3 / r ** 2 + 2 * (1 - 2 * m / r ) ** (-1) * ( m / r ** 2 + G / c ** 4 * 4 * np.pi * r * p) ** 2) + 2 * (1 - 2 * m / r ) ** (-1) *beta / r * (-1 + m / r + 2 * np.pi * r ** 2 * G / c ** 2 * (e - p / c ** 2))\n",
    "\n",
    "    dHdr = beta\n",
    "    return dbeta_dr, dHdr\n",
    "\n",
    "#@jit(nopython = True)\n",
    "def en_dens(parr, earr, p):\n",
    "  if p < min(parr) or p > max(parr):\n",
    "    e = 0\n",
    "  else:\n",
    "    e = ene_interp(parr, earr, p)\n",
    "  return e\n",
    "\n",
    "# @jit(nopython = True,parallel=True)\n",
    "def find_ind(arr:np.ndarray, val:np.ndarray) -> np.int32:\n",
    "    for i, item in enumerate(arr):\n",
    "        if val > item:\n",
    "            continue\n",
    "        else:\n",
    "            return i\n",
    "    return len(arr)\n",
    "\n",
    "class PressureOutOfRangeError(Exception):\n",
    "    pass\n",
    "\n",
    "#@jit(nopython = True)\n",
    "def en_dens(parr, earr, p):\n",
    "  if p < min(parr) or p > max(parr):\n",
    "    e = 0\n",
    "  else:\n",
    "    e = ene_interp(parr, earr, p)\n",
    "  return e\n",
    "\n",
    "\n",
    "# @jit(nopython = True)\n",
    "def ene_interp(pre_arr, ene_arr, pressure):\n",
    "    if pressure < min(pre_arr) or pressure > max(pre_arr):\n",
    "        raise PressureOutOfRangeError(\"Pressure is out of range.\")\n",
    "    else:\n",
    "        ind = find_ind(pre_arr, pressure)\n",
    "        left_p = pre_arr[ind - 1]\n",
    "        right_p = pre_arr[ind]\n",
    "        left_e = ene_arr[ind-1]\n",
    "        right_e = ene_arr[ind]\n",
    "        ene_val = (pressure - left_p)*(right_e - left_e)/(right_p - left_p) + left_e\n",
    "    return ene_val\n",
    "\n",
    "#@jit(nopython = True)\n",
    "def pre_interp(pre_arr, ene_arr, energy):\n",
    "    if energy < min(ene_arr) or energy > max(ene_arr):\n",
    "        raise PressureOutOfRangeError(\"Energy is out of range.\")\n",
    "    else:\n",
    "        ind = find_ind(ene_arr, energy)\n",
    "        left_p = pre_arr[ind - 1]\n",
    "        right_p = pre_arr[ind]\n",
    "        left_e = ene_arr[ind-1]\n",
    "        right_e = ene_arr[ind]\n",
    "        pre_val = (energy - left_e)*(right_p - left_p)/(right_e - left_e) + left_p\n",
    "    return pre_val\n",
    "\n",
    "def cs2_interp(cs2_arr, pre_arr, pressure):\n",
    "    if pressure < min(pre_arr) or pressure > max(pre_arr):\n",
    "        raise PressureOutOfRangeError(\"Pressure is out of range.\")\n",
    "    else:\n",
    "        ind = find_ind(pre_arr, pressure)\n",
    "        left_c = cs2_arr[ind - 1]\n",
    "        right_c = cs2_arr[ind]\n",
    "        left_p = pre_arr[ind-1]\n",
    "        right_p = pre_arr[ind]\n",
    "        cs2_val = (pressure - left_p)*(right_c - left_c)/(right_p - left_p) + left_c\n",
    "    return cs2_val\n",
    "\n",
    "#@jit(nopython = True)\n",
    "def Tov_eqn(P, r, m, dens, press, G, c, min_pressure):\n",
    "    if P < min_pressure:\n",
    "        return 0.0\n",
    "    else:\n",
    "        eden = ene_interp(press, dens, P)\n",
    "        return -(G * ((P / c ** 2) + eden) * (m + 4 * np.pi * r ** 3 * P / c ** 2)) / (r * (r - 2 * G * m / c ** 2))\n",
    "\n",
    "@jit(nopython = True)\n",
    "def mass_eqn(r, ene):\n",
    "    return 4 * np.pi * r ** 2 * ene\n",
    "\n",
    "\n",
    "def TOV_module(cen_dens, pressure, density, exit_Pre,love=False, to_print=False):\n",
    "    asi = 0\n",
    "    P_exit =exit_Pre\n",
    "    for i in range(len(cen_dens)):\n",
    "        press = np.array(pressure)\n",
    "        dens = np.array(density)\n",
    "        d = cen_dens[i]\n",
    "        P0 = pre_interp(press, dens, d)\n",
    "        r = 10\n",
    "        P = P0\n",
    "        m = mass_eqn(r,d)\n",
    "        h = 1\n",
    "        a0 = 1\n",
    "        H0 = a0*r**2\n",
    "        beta0 = 2*a0*r\n",
    "        min_pressure = min(press)\n",
    "        beta = beta0\n",
    "        H = H0\n",
    "        if  love == True:\n",
    "            #print(\"Entering Love loop\")\n",
    "            while P > P_exit :\n",
    "                k1_m = mass_eqn(r, ene_interp(press, dens, P))\n",
    "                k2_m = mass_eqn(r + h / 2, ene_interp(press, dens, P))\n",
    "                k3_m = mass_eqn(r + h / 2, ene_interp(press, dens, P))\n",
    "                k4_m = mass_eqn(r + h, ene_interp(press, dens, P))\n",
    "\n",
    "                k1_p = Tov_eqn(P, r, m, dens, press, G, c, min_pressure)\n",
    "                k2_p = Tov_eqn(P + k1_p * h / 2, r + h / 2, m + k1_m * h / 2, dens, press, G, c, min_pressure)\n",
    "                k3_p = Tov_eqn(P + k2_p * h / 2, r + h / 2, m + k2_m * h / 2, dens, press, G, c, min_pressure)\n",
    "                k4_p = Tov_eqn(P + k3_p * h, r + h, m + k3_m * h, dens, press, G, c, min_pressure)\n",
    "\n",
    "                k1_dbeta_dr, k1_dHdr = beta_and_H(r, P, H, m, beta, press, dens)\n",
    "                k2_dbeta_dr, k2_dHdr = beta_and_H(r + 0.5 * h, P + 0.5 * h * k1_p, H + 0.5 * h * k1_dHdr, m + 0.5*h*k1_m, beta + 0.5*h*k1_dbeta_dr, press, dens)\n",
    "                k3_dbeta_dr, k3_dHdr = beta_and_H(r + 0.5 * h, P + 0.5 * h * k2_p, H + 0.5 * h * k2_dHdr, m + 0.5*h*k2_m, beta + 0.5*h*k2_dbeta_dr, press, dens)\n",
    "                k4_dbeta_dr, k4_dHdr = beta_and_H(r + h, P + h * k3_p, H + h * k3_dHdr, m + h*k3_m, beta + h*k3_dbeta_dr, press, dens)\n",
    "\n",
    "                beta = beta + (h / 6.0) * (k1_dbeta_dr + 2 * k2_dbeta_dr + 2 * k3_dbeta_dr + k4_dbeta_dr)\n",
    "                H = H + (h / 6.0) * (k1_dHdr + 2 * k2_dHdr + 2 * k3_dHdr + k4_dHdr)\n",
    "                P += h * (k1_p + 2 * k2_p + 2 * k3_p + k4_p) / 6\n",
    "                m += h * (k1_m + 2 * k2_m + 2 * k3_m + k4_m) / 6\n",
    "                r += h\n",
    "            R.append(r/1000)\n",
    "            M.append(m/M01)\n",
    "            y = r * beta/ (H)\n",
    "            C = m/(r)\n",
    "            k2 = love_number(C,y)\n",
    "            Com.append(C)\n",
    "            Love.append(k2)\n",
    "            if to_print == True:\n",
    "                print(\"star \", i,\" done\")\n",
    "        else:\n",
    "            #print(\"Entering No Love loop\")\n",
    "            while P > P_exit :\n",
    "                k1_m = mass_eqn(r, ene_interp(press, dens, P))\n",
    "                k2_m = mass_eqn(r + h / 2, ene_interp(press, dens, P))\n",
    "                k3_m = mass_eqn(r + h / 2, ene_interp(press, dens, P))\n",
    "                k4_m = mass_eqn(r + h, ene_interp(press, dens, P))\n",
    "\n",
    "                k1_p = Tov_eqn(P, r, m, dens, press, G, c, min_pressure)\n",
    "                k2_p = Tov_eqn(P + k1_p * h / 2, r + h / 2, m + k1_m * h / 2, dens, press, G, c, min_pressure)\n",
    "                k3_p = Tov_eqn(P + k2_p * h / 2, r + h / 2, m + k2_m * h / 2, dens, press, G, c, min_pressure)\n",
    "                k4_p = Tov_eqn(P + k3_p * h, r + h, m + k3_m * h, dens, press, G, c, min_pressure)\n",
    "\n",
    "                P += h * (k1_p + 2 * k2_p + 2 * k3_p + k4_p) / 6\n",
    "                m += h * (k1_m + 2 * k2_m + 2 * k3_m + k4_m) / 6\n",
    "                r += h\n",
    "            R.append(r/1000)\n",
    "            M.append(m/M01)\n",
    "            if to_print == True:\n",
    "                print(\"star \", i,\" done\")\n",
    "    return R,M,Com,Love"
   ]
  },
  {
   "cell_type": "code",
   "execution_count": 2,
   "metadata": {},
   "outputs": [],
   "source": [
    "\n",
    "import numpy as np\n",
    "import matplotlib.pyplot as plt\n",
    "\n",
    "#data1 = np.loadtxt('./EOS-Data/Had_EOS_13.dat')\n",
    "# file = './EOS-Data/Had_EoS1'\n",
    "\n",
    "# for i in range(0,10000):\n",
    "#     data1 = np.loadtxt('./EOS-Data/Had_EoS1/Had_EOS_'+str(i)+'.dat')\n",
    "#     plt.plot(data1[:,1], data1[:,0], label='Had_EOS_'+str(i))\n",
    "data1 = np.loadtxt('./eos_DD2BPS_hadronic_cs2.csv', delimiter=',',skiprows=1)\n"
   ]
  },
  {
   "cell_type": "code",
   "execution_count": 3,
   "metadata": {},
   "outputs": [
    {
     "name": "stdout",
     "output_type": "stream",
     "text": [
      "3.3839594469135805e-09 2.2416865382716055e-09\n",
      "4.8682238419753086e-20 1.9990764049382717e-25\n"
     ]
    }
   ],
   "source": [
    "G1 = 6.67*10**(-11)             ############ N m^2/ kg^2\n",
    "c1 = 3*10**(8)  \n",
    "\n",
    "density_dat = data1[:, 2].astype(np.float64)\n",
    "pressure_dat = data1[:, 3].astype(np.float64)\n",
    "# sound_speed_dat = data1[:,2]\n",
    "\n",
    "density_dat_GU = density_dat*1.6* 10**32 * G1/c1**4\n",
    "pressure_dat_GU = pressure_dat*1.6* 10**32 * G1/c1**4\n",
    "\n",
    "density_dat_GU.astype(np.float64)\n",
    "pressure_dat_GU.astype(np.float64)\n",
    "\n",
    "print(np.max(density_dat_GU), np.max(pressure_dat_GU))\n",
    "print(np.min(density_dat_GU), np.min(pressure_dat_GU))\n",
    "\n",
    "# print(density_dat_GU)"
   ]
  },
  {
   "cell_type": "code",
   "execution_count": 4,
   "metadata": {},
   "outputs": [
    {
     "data": {
      "text/plain": [
       "<matplotlib.collections.PathCollection at 0x17e2bac10>"
      ]
     },
     "execution_count": 4,
     "metadata": {},
     "output_type": "execute_result"
    },
    {
     "data": {
      "image/png": "[encoded data removed]",
      "text/plain": [
       "<Figure size 640x480 with 1 Axes>"
      ]
     },
     "metadata": {},
     "output_type": "display_data"
    }
   ],
   "source": [
    "plt.plot(density_dat, pressure_dat, label='EOS')\n",
    "plt.scatter(density_dat, pressure_dat, label='EOS')\n",
    "# plt.xlim(10,20000)\n",
    "# plt.ylim(0.1, 10**4)"
   ]
  },
  {
   "cell_type": "code",
   "execution_count": 7,
   "metadata": {},
   "outputs": [
    {
     "name": "stdout",
     "output_type": "stream",
     "text": [
      "3.3805754874666724e-09 6.321554565302226e-10 9.17568981231276e-10\n"
     ]
    }
   ],
   "source": [
    "central_energy = np.logspace(np.log10(np.max(density_dat_GU)*0.999),np.log10(6.321554565302227e-10),10)\n",
    "#central_energy = np.asarray(central_energy[1])\n",
    "print(np.max(central_energy), np.min(central_energy),central_energy[7])"
   ]
  },
  {
   "cell_type": "code",
   "execution_count": 8,
   "metadata": {},
   "outputs": [],
   "source": [
    "M= []\n",
    "R = []\n",
    "Com = []\n",
    "Love = []"
   ]
  },
  {
   "cell_type": "code",
   "execution_count": 9,
   "metadata": {},
   "outputs": [
    {
     "name": "stdout",
     "output_type": "stream",
     "text": [
      "star  0  done\n",
      "star  1  done\n",
      "star  2  done\n",
      "star  3  done\n",
      "star  4  done\n",
      "star  5  done\n",
      "star  6  done\n",
      "star  7  done\n",
      "star  8  done\n",
      "star  9  done\n"
     ]
    }
   ],
   "source": [
    "R,M,Com,Love = TOV_module(central_energy, pressure_dat_GU,density_dat_GU,exit_Pre=np.min(1.1*pressure_dat_GU),love=False,to_print=True)"
   ]
  },
  {
   "cell_type": "code",
   "execution_count": null,
   "metadata": {},
   "outputs": [],
   "source": [
    "with open('Mass-Radius-DD2_Star.dat', 'w') as f:\n",
    "    for i in range(len(M)):\n",
    "        f.write(f'{R[i]} \\t {M[i]} \\t {Com[0]} \\t {Love[i]} \\n' )"
   ]
  },
  {
   "cell_type": "code",
   "execution_count": 10,
   "metadata": {},
   "outputs": [
    {
     "data": {
      "text/plain": [
       "Text(0, 0.5, 'M/Msun')"
      ]
     },
     "execution_count": 10,
     "metadata": {},
     "output_type": "execute_result"
    },
    {
     "data": {
      "image/png": "[encoded data removed]",
      "text/plain": [
       "<Figure size 640x480 with 1 Axes>"
      ]
     },
     "metadata": {},
     "output_type": "display_data"
    }
   ],
   "source": [
    "plt.plot(R,M, label='TOV')\n",
    "plt.scatter(R,M, label='TOV')\n",
    "plt.xlabel('R (km)')\n",
    "plt.ylabel('M/Msun')\n",
    "# plt.xlim(0,20)"
   ]
  },
  {
   "cell_type": "code",
   "execution_count": null,
   "metadata": {},
   "outputs": [],
   "source": [
    "plt.plot(M,Love, label='Love number')\n",
    "plt.xlabel('Mass (M/Msun)')\n",
    "plt.ylabel('Love number')\n",
    "plt.legend()"
   ]
  },
  {
   "cell_type": "code",
   "execution_count": null,
   "metadata": {},
   "outputs": [],
   "source": [
    "plt.plot(Com,Love, label='Compactness')\n",
    "plt.xlabel('Compactness')\n",
    "plt.ylabel('Love number')\n",
    "plt.legend()"
   ]
  },
  {
   "cell_type": "code",
   "execution_count": 12,
   "metadata": {},
   "outputs": [],
   "source": [
    "def Lambda(k2, C):\n",
    "    return (2/3)*k2*C**(-5.0)\n",
    "\n"
   ]
  },
  {
   "cell_type": "code",
   "execution_count": null,
   "metadata": {},
   "outputs": [],
   "source": [
    "## For 1.36M and q = 0.73\n",
    "\n",
    "\n",
    "\n",
    "m1 = np.asarray([1.85])\n",
    "q = np.asarray([0.73,0.80,0.87,0.95])\n",
    "m2 = m1*q\n",
    "\n",
    "print(m2)\n",
    "\n",
    "radius_from_mass = interp1d(M,R,fill_value='extrapolate')\n",
    "\n",
    "r1 = radius_from_mass(m1)\n",
    "r2 = radius_from_mass(m2)\n",
    "\n",
    "print(r2)\n",
    "\n",
    "love_from_mass = interp1d(M,Love,fill_value='extrapolate')\n",
    "Compactness_from_mass = interp1d(M,Com,fill_value='extrapolate')\n",
    "\n",
    "love1 = love_from_mass(m1)\n",
    "love2 = love_from_mass(m2)\n",
    "\n",
    "C1 = Compactness_from_mass(m1)\n",
    "C2 = Compactness_from_mass(m2)\n",
    "\n",
    "print(love2)\n",
    "\n",
    "print(C1, C2)\n",
    "\n",
    "print('M_TOV = ',np.max(M))\n",
    "print('R_1.6 = ', radius_from_mass(1.6))"
   ]
  },
  {
   "cell_type": "code",
   "execution_count": null,
   "metadata": {},
   "outputs": [],
   "source": [
    "@jit(nopython = True)\n",
    "def binary_tidal(lam1,lam2,mass1,mass2):\n",
    "  lamb_t = (16/13)*((mass1 + 12 * mass2) * (lam1 * mass1**4) + (mass2 + 12 * mass1) * (lam2 * mass2**4))\n",
    "  lamb = lamb_t/(mass1 + mass2)**5\n",
    "  return lamb"
   ]
  },
  {
   "cell_type": "code",
   "execution_count": 14,
   "metadata": {},
   "outputs": [],
   "source": [
    "def ejecta_from_mass_ratio(m1,m2,lambda1,lambda2):\n",
    "\n",
    "    log_ej = (-0.0719*m1*((1/(0.360-0.0355*np.log(lambda1)+0.000705*np.log(lambda1)**2)) - 1)+ 0.2116*m2*(m1/m2)**(-2.905)-2.42/2)+(-0.0719*m2*((1/(0.360-0.0355*np.log(lambda2)+0.000705*np.log(lambda2)**2)) - 1)+ 0.2116*m1*(m2/m1)**(-2.905)-2.42/2)\n",
    "\n",
    "    M_dyn = np.exp(log_ej)\n",
    "\n",
    "    ejcta_mass = M_dyn*1.9885e33\n",
    "\n",
    "\n",
    "\n",
    "    return ejcta_mass"
   ]
  },
  {
   "cell_type": "code",
   "execution_count": 15,
   "metadata": {},
   "outputs": [],
   "source": [
    "import numpy as np\n",
    "import matplotlib.pyplot as plt\n",
    "from matplotlib.ticker import NullFormatter\n",
    "import pandas as pd\n",
    "from numpy import pi\n",
    "\n",
    "import bateman as bt\n",
    "import thermalization as th\n",
    "import heat as ht\n",
    "import lightcurve as lc\n",
    "\n",
    "\n",
    "\n",
    "c = 2.99792458e10\n",
    "day = 86400.\n",
    "Msun = 1.9885e33\n",
    "\n",
    "\n",
    "\n",
    "%matplotlib inline\n",
    "%load_ext autoreload\n",
    "%autoreload 2"
   ]
  },
  {
   "cell_type": "code",
   "execution_count": 16,
   "metadata": {},
   "outputs": [
    {
     "name": "stderr",
     "output_type": "stream",
     "text": [
      "/var/folders/qf/j495f6rd5_52r4vxvnhky6jr0000gn/T/ipykernel_34833/2689731801.py:2: FutureWarning: The 'delim_whitespace' keyword in pd.read_csv is deprecated and will be removed in a future version. Use ``sep='\\s+'`` instead\n",
      "  fkappa = pd.read_csv('input_files/effective_kappa_A85_238.dat',delim_whitespace=True,header=None)\n"
     ]
    }
   ],
   "source": [
    "#fkappa = pd.read_csv('effective_kappa_A141_238.dat',delim_whitespace=True,header=None)\n",
    "fkappa = pd.read_csv('input_files/effective_kappa_A85_238.dat',delim_whitespace=True,header=None)\n",
    "#fkappa = pd.read_csv('effective_kappa_141_238.dat',delim_whitespace=True,header=None)\n",
    "\n",
    "kappa_effs = 0.02*np.ones((240,100))\n",
    "for i in range(0,len(fkappa)):\n",
    "    A = fkappa[0][i]\n",
    "    Z = fkappa[1][i]\n",
    "    kappa = np.sqrt(fkappa[3][i]*fkappa[4][i])\n",
    "    kappa_effs[A][Z] = kappa"
   ]
  },
  {
   "cell_type": "code",
   "execution_count": 17,
   "metadata": {},
   "outputs": [
    {
     "name": "stderr",
     "output_type": "stream",
     "text": [
      "/var/folders/qf/j495f6rd5_52r4vxvnhky6jr0000gn/T/ipykernel_34833/2081593275.py:1: FutureWarning: The 'delim_whitespace' keyword in pd.read_csv is deprecated and will be removed in a future version. Use ``sep='\\s+'`` instead\n",
      "  ffraction = pd.read_csv('input_files/solar_r_abundance_pattern.dat',delim_whitespace=True,header=None)\n"
     ]
    }
   ],
   "source": [
    "ffraction = pd.read_csv('input_files/solar_r_abundance_pattern.dat',delim_whitespace=True,header=None)\n",
    "\n",
    "##########Start input parameters\n",
    "Amin = 85\n",
    "Amax = 209\n",
    "\n",
    "##########ejecta parameters for thermalization\n",
    "# Mej = 0.1608*Msun\n",
    "# vej = 0.1*c\n",
    "# n = 4.5\n",
    "# alpha_max = 4.0#v_max = alpha_max * vej\n",
    "# alpha_min = 1.#v_min = alpha_min * vej\n",
    "\n",
    "# #input parameters for the calculation of a light curve\n",
    "# kappa_low = 0.5  #opacity [cm^2/g] for v > v_kappa\n",
    "# kappa_high = 3.0 #opacity [cm^2/g] for v < v_kappa\n",
    "# be_kappa = 0.2"
   ]
  },
  {
   "cell_type": "code",
   "execution_count": 18,
   "metadata": {},
   "outputs": [],
   "source": [
    "def lightcurve(v,alpha_max,alpha_min,n,kappa_low,kappa_high,be_kappa,m1,m2,lambda1,lambda2,M_TOV,R):\n",
    "    import synphot\n",
    "    from astropy import units as u\n",
    "    c = 2.99792458e10\n",
    "    vej = v*c\n",
    "    G = 6.67e-8  # Gravitational constant\n",
    "\n",
    "    M_thr = G*M_TOV*Msun/(c**2*R*1e5)\n",
    "\n",
    "    log_ej = (-0.0719*m1*((1/(0.360-0.0355*np.log(lambda1)+0.000705*np.log(lambda1)**2)) - 1)+ 0.2116*m2*(m1/m2)**(-2.905)-2.42/2)+(-0.0719*m2*((1/(0.360-0.0355*np.log(lambda2)+0.000705*np.log(lambda2)**2)) - 1)+ 0.2116*m1*(m2/m1)**(-2.905)-2.42/2)\n",
    "\n",
    "    M_dyn = 10**(log_ej)*1.9885e33\n",
    "\n",
    "    log_M_disc = max(-3,-31.335*(1-0.976*np.arctan((1.0474-(m1+m2)/M_thr)/0.05957)))\n",
    "    M_disc = 10**(log_M_disc)*1.9885e33\n",
    "\n",
    "    Mej = M_dyn + M_disc\n",
    "\n",
    "\n",
    "    # print('Calculated {} for mass ratio {}'.format(Mej,(m2/m1)))\n",
    "\n",
    "    # mass_ej = (-9.335/(0.360-0.0355*np.log(lambda1)+0.000705*np.log(lambda1)**2)+114.17*(m2/m1)**(1.5465)-337.56*(0.360-0.0355*np.log(lambda1)+0.000705*np.log(lambda1)**2))+(-9.335/(0.360-0.0355*np.log(lambda2)+0.000705*np.log(lambda2)**2)+114.17*(m2/m1)**(1.5465)-337.56*(0.360-0.0355*np.log(lambda2)+0.000705*np.log(lambda2)**2))\n",
    "    # Mej = mass_ej*1.9885e30\n",
    "\n",
    "    # if Mej < 0:\n",
    "    #     Mej = 0.0\n",
    "\n",
    "\n",
    "\n",
    "    beta = ht.calc_heating_rate(Mej,vej, Amin,Amax,ffraction,kappa_effs,alpha_max,alpha_min,n)\n",
    "    heat_time = np.array(beta['t'])\n",
    "    heat_rate = np.array(beta['electron_th'])+np.array(beta['gamma_th'])\n",
    "\n",
    "    LC = lc.calc_lightcurve(Mej,vej,alpha_max,alpha_min,n,kappa_low,kappa_high,be_kappa,heat_time, heat_rate)\n",
    "\n",
    "    # bandpass_labels = 'ubvri'\n",
    "    # bandpasses = [\n",
    "    # synphot.SpectralElement.from_filter(f'johnson_{label}')\n",
    "    # for label in bandpass_labels]\n",
    "    # seds = [\n",
    "    # synphot.SourceSpectrum(synphot.BlackBody1D, temperature=TT)\n",
    "    # * np.pi * (rr / 3.08567758128E+26)**2\n",
    "    # for TT, rr in zip(LC['T'], LC['R'])]\n",
    "    # abmags = [\n",
    "    # [synphot.Observation(sed, bandpass).effstim(u.ABmag).value for sed in seds]\n",
    "    # for bandpass in bandpasses]\n",
    "\n",
    "    data = {'t':LC['t'],'LC':LC['LC'],'Temp':LC['T'],'Radius':LC['R'],'q':{m2/m1}}\n",
    "    # df = pd.DataFrame(data=data)\n",
    "    # df.to_csv('output_files/lightcurve.dat',sep=\" \",index=False,header=None,columns=['t', 'LC', 'Temp', 'Radius'])\n",
    "\n",
    "    # from matplotlib import rc\n",
    "    # rc('text', usetex=False)\n",
    "    # fig, ax = plt.subplots(figsize=(6.472135955, 4))\n",
    "    # plt.xlim(0.1,30.)\n",
    "    # plt.ylim(1.0e39,3.0e42)\n",
    "    # plt.ylabel(r\"$L_{\\rm bol}~[{\\rm erg/s}]$\")\n",
    "    # plt.xlabel(r\"${\\rm Time~since~merger~[day]}$\")\n",
    "    # plt.loglog(LC['t'],LC['LC'],label='bolometric',linestyle='-',linewidth=1.5,color='r')\n",
    "    # plt.title(r'EOS = {EOS} M={M}M$_\\odot$ v={v}c'.format(EOS=EOS,M=M,v=v))\n",
    "\n",
    "\n",
    "    # plt.legend(loc='lower left',fontsize=14)\n",
    "    # # plt.savefig(\"output_files/LC_A85.pdf\",dpi=600,bbox_inches='tight')\n",
    "    # plt.show()\n",
    "\n",
    "    return data"
   ]
  },
  {
   "cell_type": "code",
   "execution_count": null,
   "metadata": {},
   "outputs": [],
   "source": [
    "data2 = np.loadtxt('Mass-Radius-SLY_4-EOS_4-plot.dat')\n",
    "m1 = data2[:,0]\n",
    "m2 = data2[:,1]\n",
    "lambda1 = data2[:,2]\n",
    "lambda2 = data2[:,3]"
   ]
  },
  {
   "cell_type": "code",
   "execution_count": null,
   "metadata": {},
   "outputs": [],
   "source": [
    "results = []\n",
    "for i in range(len(m1)):\n",
    "    result =lightcurve(0.1,4.0,1.0,4.5,0.5,3.0,0.2,m1[i],m2[i],lambda1[i],lambda2[i],np.max(M),radius_from_mass(1.6))\n",
    "    print('Calculation for q = {} done'.format(m2[i]/m1[i]))\n",
    "    results.append(result)"
   ]
  },
  {
   "cell_type": "code",
   "execution_count": null,
   "metadata": {},
   "outputs": [],
   "source": [
    "t = [0.5,0.6,0.8,1.0,1.2,1.5,2.5,3.5,4.5,5.5,6.5,7.5,8.5,9.5,10.5,11.5,12.5,13.5,14.5,15.5,16.5]\n",
    "L_int = [7.82e+41,8.45e+41,7.31e+41,6.15e+41,4.97e+41,3.69e+41,2.44e+41,1.87e+41,1.46e+41,1.16e+41,8.84e+40,6.53e+40,4.69e+40,3.36e+40,2.47e+40,1.96e+40,1.40e+40,9.64e+39,7.33e+39,3.28e+39,2.61e+39]\n",
    "L_bb = [1.2e+42,1.3e+42,7.0e+41,5.5e+41,4.8e+41,3.6e+41,2.3e+41,1.7e+41,1.4e+41,1.0e+41,9.1e+40,7.0e+40,4.5e+40,2.9e+40,2.0e+40,3.0e+40,3.0e+40,2.1e+40,1.7e+40,7.7e+38,7.7e+38]\n",
    "\n",
    "for i in range(len(m1)):\n",
    "    plt.loglog(results[i]['t'],results[i]['LC'],label=f'q = {np.round(m2[i]/m1[i],3)}')\n",
    "plt.loglog(t,L_int,label='Data of AT2017gfo',linestyle='--',linewidth=1.5,color='black')\n",
    "#plt.loglog(t,L_bb,label='Data of AT2017gfo',linestyle='--',linewidth=1.5,color='black')\n",
    "plt.legend()\n",
    "plt.ylabel(r\"$L_{\\rm bol}~[{\\rm erg/s}]$\")\n",
    "plt.xlabel(r\"${\\rm Time~since~merger~[day]}$\")\n",
    "plt.title('Lightcurve for different mass ratios and v = 0.4c')\n",
    "plt.xlim(0.1,30.)\n",
    "plt.ylim(1.0e39,1.0e42)\n"
   ]
  }
 ],
 "metadata": {
  "kernelspec": {
   "display_name": "Thesis",
   "language": "python",
   "name": "python3"
  },
  "language_info": {
   "codemirror_mode": {
    "name": "ipython",
    "version": 3
   },
   "file_extension": ".py",
   "mimetype": "text/x-python",
   "name": "python",
   "nbconvert_exporter": "python",
   "pygments_lexer": "ipython3",
   "version": "3.11.9"
  }
 },
 "nbformat": 4,
 "nbformat_minor": 2
}

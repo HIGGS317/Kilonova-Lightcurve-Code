{
 "cells": [
  {
   "cell_type": "code",
   "execution_count": 1,
   "metadata": {},
   "outputs": [],
   "source": [
    "import numpy as np\n",
    "from numba import jit\n",
    "import time\n",
    "from scipy.interpolate import interp1d\n",
    "\n",
    "G=1\n",
    "c=1\n",
    "M01 = 1.474 * 10**3\n",
    "\n",
    "G1 = 6.67*10**(-11)             ############ N m^2/ kg^2\n",
    "c1 = 3*10**(8)                  ############ m / s\n",
    "\n",
    "Mev_fm3_to_GU = 1.6* 10**32 * G1/c1**4\n",
    "\n",
    "\n",
    "from numba import jit\n",
    "@jit(nopython = True)\n",
    "def love_number(C,y):\n",
    "  k2 = 8 / 5 * C ** 5 * (1 - 2 * C) **(2) * (2 + 2 * C * (y - 1) - y) * (2 * C * (6 - 3 * y + 3 * C * (5 * y - 8)) + 4 * C ** 3 * (13 - 11 * y + C * (3 * y - 2) + 2 * C ** 2 * (1 + y)) + 3 * (1 - 2 * C) ** 2 * (2 - y + 2 * C * (y - 1)) * (np.log(1 - 2 * C))) ** (-1)\n",
    "  return k2\n",
    "\n",
    "\n",
    "@jit(nopython = True)\n",
    "def beta_and_H(r, p, H, m, beta, parr, earr):\n",
    "    dp = p * 0.005\n",
    "\n",
    "    el_3 = en_dens(parr, earr, p - 3 * dp)\n",
    "    el_2 = en_dens(parr, earr, p - 2 * dp)\n",
    "    el_1 = en_dens(parr, earr, p - 1 * dp)\n",
    "    er_3 = en_dens(parr, earr, p + 3 * dp)\n",
    "    er_2 = en_dens(parr, earr, p + 2 * dp)\n",
    "    er_1 = en_dens(parr, earr, p + 1 * dp)\n",
    "\n",
    "    de_dp = (-1 / 60 * el_3 + 3 / 20 * el_2 - 3 / 4 * el_1 + 3 / 4 * er_1 - 3 / 20 * er_2 + 1 / 60 * er_3) / dp\n",
    "\n",
    "    #G = 6.67430e-11  # Gravitational constant\n",
    "    #c = 299792458.0  # Speed of light\n",
    "    G = 1\n",
    "    c = 1\n",
    "\n",
    "    e = en_dens(parr, earr, p)\n",
    "    dbeta_dr = 2 * (1 - 2 * m / r ) ** (-1) *H * (-2 * np.pi * G / c ** 2 * (5 * e + 9 * p / c ** 2 + de_dp * c ** 2 * (e + p / c ** 2)) + 3 / r ** 2 + 2 * (1 - 2 * m / r ) ** (-1) * ( m / r ** 2 + G / c ** 4 * 4 * np.pi * r * p) ** 2) + 2 * (1 - 2 * m / r ) ** (-1) *beta / r * (-1 + m / r + 2 * np.pi * r ** 2 * G / c ** 2 * (e - p / c ** 2))\n",
    "\n",
    "    dHdr = beta\n",
    "    return dbeta_dr, dHdr\n",
    "\n",
    "@jit(nopython=True)\n",
    "def en_dens(parr, earr, p):\n",
    "  if p < min(parr) or p > max(parr):\n",
    "    e = 0\n",
    "  else:\n",
    "    e = ene_interp(parr, earr, p)\n",
    "  return e\n",
    "\n",
    "@jit(nopython = True)\n",
    "def find_ind(arr, val):\n",
    "    for i, item in enumerate(arr):\n",
    "        if val > item:\n",
    "            continue\n",
    "        else:\n",
    "            return i\n",
    "    return len(arr)\n",
    "\n",
    "class PressureOutOfRangeError(Exception):\n",
    "    pass\n",
    "\n",
    "@jit(nopython = True)\n",
    "def en_dens(parr, earr, p):\n",
    "  if p < min(parr) or p > max(parr):\n",
    "    e = 0\n",
    "  else:\n",
    "    e = ene_interp(parr, earr, p)\n",
    "  return e\n",
    "\n",
    "\n",
    "@jit(nopython = True)\n",
    "def ene_interp(pre_arr, ene_arr, pressure):\n",
    "    if pressure < min(pre_arr) or pressure > max(pre_arr):\n",
    "        raise PressureOutOfRangeError(\"Pressure is out of range.\")\n",
    "    else:\n",
    "        ind = find_ind(pre_arr, pressure)\n",
    "        left_p = pre_arr[ind - 1]\n",
    "        right_p = pre_arr[ind]\n",
    "        left_e = ene_arr[ind-1]\n",
    "        right_e = ene_arr[ind]\n",
    "        ene_val = (pressure - left_p)*(right_e - left_e)/(right_p - left_p) + left_e\n",
    "    return ene_val\n",
    "\n",
    "@jit(nopython = True)\n",
    "def pre_interp(pre_arr, ene_arr, energy):\n",
    "    if energy < min(ene_arr) or energy > max(ene_arr):\n",
    "        raise PressureOutOfRangeError(\"Energy is out of range.\")\n",
    "    else:\n",
    "        ind = find_ind(ene_arr, energy)\n",
    "        left_p = pre_arr[ind - 1]\n",
    "        right_p = pre_arr[ind]\n",
    "        left_e = ene_arr[ind-1]\n",
    "        right_e = ene_arr[ind]\n",
    "        pre_val = (energy - left_e)*(right_p - left_p)/(right_e - left_e) + left_p\n",
    "    return pre_val\n",
    "\n",
    "def cs2_interp(cs2_arr, pre_arr, pressure):\n",
    "    if pressure < min(pre_arr) or pressure > max(pre_arr):\n",
    "        raise PressureOutOfRangeError(\"Pressure is out of range.\")\n",
    "    else:\n",
    "        ind = find_ind(pre_arr, pressure)\n",
    "        left_c = cs2_arr[ind - 1]\n",
    "        right_c = cs2_arr[ind]\n",
    "        left_p = pre_arr[ind-1]\n",
    "        right_p = pre_arr[ind]\n",
    "        cs2_val = (pressure - left_p)*(right_c - left_c)/(right_p - left_p) + left_c\n",
    "    return cs2_val\n",
    "\n",
    "@jit(nopython = True)\n",
    "def Tov_eqn(P, r, m, dens, press, G, c, min_pressure):\n",
    "    if P < min_pressure:\n",
    "        return 0.0\n",
    "    else:\n",
    "        eden = ene_interp(press, dens, P)\n",
    "        return -(G * ((P / c ** 2) + eden) * (m + 4 * np.pi * r ** 3 * P / c ** 2)) / (r * (r - 2 * G * m / c ** 2))\n",
    "\n",
    "@jit(nopython = True)\n",
    "def mass_eqn(r, ene):\n",
    "    return 4 * np.pi * r ** 2 * ene\n",
    "\n",
    "\n",
    "def TOV_module(cen_dens, pressure, density, exit_Pre,love=False, to_print=False):\n",
    "    asi = 0\n",
    "    P_exit =exit_Pre\n",
    "    for i in range(len(cen_dens)):\n",
    "        press = np.array(pressure)\n",
    "        dens = np.array(density)\n",
    "        d = cen_dens[i]\n",
    "        P0 = pre_interp(press, dens, d)\n",
    "        r = 10\n",
    "        P = P0\n",
    "        m = mass_eqn(r,d)\n",
    "        h = 1\n",
    "        a0 = 1\n",
    "        H0 = a0*r**2\n",
    "        beta0 = 2*a0*r\n",
    "        min_pressure = min(press)\n",
    "        beta = beta0\n",
    "        H = H0\n",
    "        if  love == True:\n",
    "            #print(\"Entering Love loop\")\n",
    "            while P > P_exit :\n",
    "                k1_m = mass_eqn(r, ene_interp(press, dens, P))\n",
    "                k2_m = mass_eqn(r + h / 2, ene_interp(press, dens, P))\n",
    "                k3_m = mass_eqn(r + h / 2, ene_interp(press, dens, P))\n",
    "                k4_m = mass_eqn(r + h, ene_interp(press, dens, P))\n",
    "\n",
    "                k1_p = Tov_eqn(P, r, m, dens, press, G, c, min_pressure)\n",
    "                k2_p = Tov_eqn(P + k1_p * h / 2, r + h / 2, m + k1_m * h / 2, dens, press, G, c, min_pressure)\n",
    "                k3_p = Tov_eqn(P + k2_p * h / 2, r + h / 2, m + k2_m * h / 2, dens, press, G, c, min_pressure)\n",
    "                k4_p = Tov_eqn(P + k3_p * h, r + h, m + k3_m * h, dens, press, G, c, min_pressure)\n",
    "\n",
    "                k1_dbeta_dr, k1_dHdr = beta_and_H(r, P, H, m, beta, press, dens)\n",
    "                k2_dbeta_dr, k2_dHdr = beta_and_H(r + 0.5 * h, P + 0.5 * h * k1_p, H + 0.5 * h * k1_dHdr, m + 0.5*h*k1_m, beta + 0.5*h*k1_dbeta_dr, press, dens)\n",
    "                k3_dbeta_dr, k3_dHdr = beta_and_H(r + 0.5 * h, P + 0.5 * h * k2_p, H + 0.5 * h * k2_dHdr, m + 0.5*h*k2_m, beta + 0.5*h*k2_dbeta_dr, press, dens)\n",
    "                k4_dbeta_dr, k4_dHdr = beta_and_H(r + h, P + h * k3_p, H + h * k3_dHdr, m + h*k3_m, beta + h*k3_dbeta_dr, press, dens)\n",
    "\n",
    "                beta = beta + (h / 6.0) * (k1_dbeta_dr + 2 * k2_dbeta_dr + 2 * k3_dbeta_dr + k4_dbeta_dr)\n",
    "                H = H + (h / 6.0) * (k1_dHdr + 2 * k2_dHdr + 2 * k3_dHdr + k4_dHdr)\n",
    "                P += h * (k1_p + 2 * k2_p + 2 * k3_p + k4_p) / 6\n",
    "                m += h * (k1_m + 2 * k2_m + 2 * k3_m + k4_m) / 6\n",
    "                r += h\n",
    "            R.append(r/1000)\n",
    "            M.append(m/M01)\n",
    "            y = r * beta/ (H)\n",
    "            C = m/(r)\n",
    "            k2 = love_number(C,y)\n",
    "            Com.append(C)\n",
    "            Love.append(k2)\n",
    "            if to_print == True:\n",
    "                print(\"star \", i,\" done\")\n",
    "        else:\n",
    "            #print(\"Entering No Love loop\")\n",
    "            while P > P_exit :\n",
    "                k1_m = mass_eqn(r, ene_interp(press, dens, P))\n",
    "                k2_m = mass_eqn(r + h / 2, ene_interp(press, dens, P))\n",
    "                k3_m = mass_eqn(r + h / 2, ene_interp(press, dens, P))\n",
    "                k4_m = mass_eqn(r + h, ene_interp(press, dens, P))\n",
    "\n",
    "                k1_p = Tov_eqn(P, r, m, dens, press, G, c, min_pressure)\n",
    "                k2_p = Tov_eqn(P + k1_p * h / 2, r + h / 2, m + k1_m * h / 2, dens, press, G, c, min_pressure)\n",
    "                k3_p = Tov_eqn(P + k2_p * h / 2, r + h / 2, m + k2_m * h / 2, dens, press, G, c, min_pressure)\n",
    "                k4_p = Tov_eqn(P + k3_p * h, r + h, m + k3_m * h, dens, press, G, c, min_pressure)\n",
    "\n",
    "                P += h * (k1_p + 2 * k2_p + 2 * k3_p + k4_p) / 6\n",
    "                m += h * (k1_m + 2 * k2_m + 2 * k3_m + k4_m) / 6\n",
    "                r += h\n",
    "            R.append(r/1000)\n",
    "            M.append(m/M01)\n",
    "            if to_print == True:\n",
    "                print(\"star \", i,\" done\")\n",
    "    return R,M,Com,Love"
   ]
  },
  {
   "cell_type": "code",
   "execution_count": 2,
   "metadata": {},
   "outputs": [],
   "source": [
    "\n",
    "import numpy as np\n",
    "import matplotlib.pyplot as plt\n",
    "\n",
    "#data1 = np.loadtxt('./EOS-Data/Had_EOS_13.dat')\n",
    "# file = './EOS-Data/Had_EoS1'\n",
    "\n",
    "# for i in range(0,10000):\n",
    "#     data1 = np.loadtxt('./EOS-Data/Had_EoS1/Had_EOS_'+str(i)+'.dat')\n",
    "#     plt.plot(data1[:,1], data1[:,0], label='Had_EOS_'+str(i))\n",
    "data1 = np.loadtxt('EOS-Data/new-eos_S_LY4_new.csv', delimiter=',')\n"
   ]
  },
  {
   "cell_type": "code",
   "execution_count": 3,
   "metadata": {},
   "outputs": [
    {
     "name": "stdout",
     "output_type": "stream",
     "text": [
      "2.222811591111111e-09 1.2414391089382715e-09\n",
      "1.226621234567901e-16 2.819516049382716e-20\n"
     ]
    }
   ],
   "source": [
    "data1G1 = 6.67*10**(-11)             ############ N m^2/ kg^2\n",
    "c1 = 3*10**(8)  \n",
    "\n",
    "Mev_fm3_to_GU = 1.6* 10**32 * G1/c1**4\n",
    "\n",
    "density_dat = data1[:, 1]\n",
    "pressure_dat = data1[:, 2]\n",
    "\n",
    "# sound_speed_dat = data1[:,2]\n",
    "\n",
    "density_dat_GU = density_dat*Mev_fm3_to_GU\n",
    "pressure_dat_GU = pressure_dat*Mev_fm3_to_GU\n",
    "\n",
    "# density_dat_GU.astype(np.float64)\n",
    "# pressure_dat_GU.astype(np.float64)\n",
    "\n",
    "print(np.max(density_dat_GU), np.max(pressure_dat_GU))\n",
    "print(np.min(density_dat_GU), np.min(pressure_dat_GU))\n",
    "\n",
    "# print(density_dat_GU)"
   ]
  },
  {
   "cell_type": "code",
   "execution_count": 4,
   "metadata": {},
   "outputs": [
    {
     "data": {
      "text/plain": [
       "<matplotlib.collections.PathCollection at 0x12af64cd0>"
      ]
     },
     "execution_count": 4,
     "metadata": {},
     "output_type": "execute_result"
    },
    {
     "data": {
      "image/png": "[encoded data removed]",
      "text/plain": [
       "<Figure size 640x480 with 1 Axes>"
      ]
     },
     "metadata": {},
     "output_type": "display_data"
    }
   ],
   "source": [
    "plt.plot(density_dat, pressure_dat, label='EOS')\n",
    "plt.scatter(density_dat, pressure_dat, label='EOS')\n",
    "# plt.xlim(10,20000)\n",
    "# plt.ylim(0.1, 10**4)"
   ]
  },
  {
   "cell_type": "code",
   "execution_count": 7,
   "metadata": {},
   "outputs": [
    {
     "name": "stdout",
     "output_type": "stream",
     "text": [
      "2.220588779520003e-09 2.072392843084521e-10 1.3478043875786235e-09\n"
     ]
    }
   ],
   "source": [
    "central_energy = np.logspace(np.log10(np.max(density_dat_GU)*0.999),np.log10( 2.072392843084521e-10),20)\n",
    "#central_energy = np.asarray(central_energy[1])\n",
    "print(np.max(central_energy), np.min(central_energy),central_energy[4])"
   ]
  },
  {
   "cell_type": "code",
   "execution_count": 8,
   "metadata": {},
   "outputs": [],
   "source": [
    "M= []\n",
    "R = []\n",
    "Com = []\n",
    "Love = []"
   ]
  },
  {
   "cell_type": "code",
   "execution_count": 9,
   "metadata": {},
   "outputs": [
    {
     "name": "stdout",
     "output_type": "stream",
     "text": [
      "star  0  done\n",
      "star  1  done\n",
      "star  2  done\n",
      "star  3  done\n",
      "star  4  done\n",
      "star  5  done\n",
      "star  6  done\n",
      "star  7  done\n",
      "star  8  done\n",
      "star  9  done\n",
      "star  10  done\n",
      "star  11  done\n",
      "star  12  done\n",
      "star  13  done\n",
      "star  14  done\n",
      "star  15  done\n",
      "star  16  done\n",
      "star  17  done\n",
      "star  18  done\n",
      "star  19  done\n"
     ]
    }
   ],
   "source": [
    "R,M,Com,Love = TOV_module(central_energy, pressure_dat_GU,density_dat_GU,exit_Pre=np.min(1.1*pressure_dat_GU),love=True,to_print=True)"
   ]
  },
  {
   "cell_type": "code",
   "execution_count": 11,
   "metadata": {},
   "outputs": [
    {
     "data": {
      "text/plain": [
       "Text(0, 0.5, 'M/Msun')"
      ]
     },
     "execution_count": 11,
     "metadata": {},
     "output_type": "execute_result"
    },
    {
     "data": {
      "image/png": "[encoded data removed]",
      "text/plain": [
       "<Figure size 640x480 with 1 Axes>"
      ]
     },
     "metadata": {},
     "output_type": "display_data"
    }
   ],
   "source": [
    "plt.plot(R,M, label='TOV')\n",
    "plt.scatter(R,M, label='TOV')\n",
    "plt.xlabel('R (km)')\n",
    "plt.ylabel('M/Msun')\n",
    "# plt.xlim(0,20)"
   ]
  },
  {
   "cell_type": "code",
   "execution_count": 12,
   "metadata": {},
   "outputs": [],
   "source": [
    "def Lambda(k2, C):\n",
    "    return (2/3)*k2*C**(-5.0)\n",
    "\n"
   ]
  },
  {
   "cell_type": "code",
   "execution_count": 13,
   "metadata": {},
   "outputs": [
    {
     "name": "stdout",
     "output_type": "stream",
     "text": [
      "q =  [0.73 0.76 0.79 0.82 0.85 0.88 0.91 0.94 0.97 1.  ]\n",
      "m2 = [1.         1.05386667 1.11653333 1.1808     1.24666667 1.31413333\n",
      " 1.36       1.36       1.36       1.36      ]\n",
      "m1 = [1.36       1.38666667 1.41333333 1.44       1.46666667 1.49333333\n",
      " 1.52       1.54666667 1.57333333 1.6       ]\n",
      "[11.8488506  11.83860188 11.8223988  11.80554866 11.78503224 11.75517766\n",
      " 11.73488126 11.73488126 11.73488126 11.73488126]\n",
      "[0.102544   0.10043596 0.09676788 0.09293987 0.08881312 0.08403225\n",
      " 0.08078201 0.08078201 0.08078201 0.08078201]\n",
      "[0.17085085 0.17435958 0.17797284 0.18164136 0.18530987 0.18897839\n",
      " 0.19264691 0.19631542 0.20018808 0.20410311] [0.12441311 0.13121583 0.13922673 0.14744744 0.15593874 0.16481583\n",
      " 0.17085085 0.17085085 0.17085085 0.17085085]\n",
      "M_TOV =  2.0580852062314436\n",
      "R_1.6 =  11.558248800794791\n"
     ]
    }
   ],
   "source": [
    "\n",
    "m1 = np.linspace(1.36,1.60,10)\n",
    "\n",
    "\n",
    "# m2 = np.linspace(1.16,1.36,10)\n",
    "#q = np.asarray([0.73,0.80,0.87,0.95])\n",
    "\n",
    "q = np.linspace(0.73,1.00,10)\n",
    "\n",
    "m2 = m1*q\n",
    "\n",
    "print('q = ', m2/m1)\n",
    "\n",
    "for i in range(len(m2)):\n",
    "    if m2[i] > 1.36:\n",
    "        m2[i] = 1.36\n",
    "    if m2[i] < 1.00:\n",
    "        m2[i]= 1.00\n",
    "\n",
    "\n",
    "\n",
    "print('m2 =',m2)\n",
    "print('m1 =',m1)\n",
    "\n",
    "radius_from_mass = interp1d(M,R,fill_value='extrapolate')\n",
    "\n",
    "r1 = radius_from_mass(m1)\n",
    "r2 = radius_from_mass(m2)\n",
    "\n",
    "print(r2)\n",
    "\n",
    "love_from_mass = interp1d(M,Love,fill_value='extrapolate')\n",
    "Compactness_from_mass = interp1d(M,Com,fill_value='extrapolate')\n",
    "\n",
    "love1 = love_from_mass(m1)\n",
    "love2 = love_from_mass(m2)\n",
    "\n",
    "C1 = Compactness_from_mass(m1)\n",
    "C2 = Compactness_from_mass(m2)\n",
    "\n",
    "print(love2)\n",
    "\n",
    "print(C1, C2)\n",
    "\n",
    "print('M_TOV = ',np.max(M))\n",
    "print('R_1.6 = ', radius_from_mass(1.6))"
   ]
  },
  {
   "cell_type": "code",
   "execution_count": 14,
   "metadata": {},
   "outputs": [
    {
     "name": "stdout",
     "output_type": "stream",
     "text": [
      "[369.94542132 326.37316953 287.09347848 252.31003508 222.02555866\n",
      " 195.6028022  172.50336067 152.2709816  133.71298495 117.36536324]\n",
      "[2293.4448442  1721.34035364 1233.18118372  889.04694144  642.11932282\n",
      "  460.63832806  369.94542132  369.94542132  369.94542132  369.94542132]\n"
     ]
    }
   ],
   "source": [
    "lam1 = Lambda(love1,C1)\n",
    "lam2 = Lambda(love2,C2)\n",
    "\n",
    "print(lam1)\n",
    "print(lam2)"
   ]
  },
  {
   "cell_type": "code",
   "execution_count": 15,
   "metadata": {},
   "outputs": [],
   "source": [
    "import numpy as np\n",
    "import matplotlib.pyplot as plt\n",
    "from matplotlib.ticker import NullFormatter\n",
    "import pandas as pd\n",
    "from numpy import pi\n",
    "\n",
    "import bateman as bt\n",
    "import thermalization as th\n",
    "import heat as ht\n",
    "import lightcurve as lc\n",
    "\n",
    "\n",
    "\n",
    "c = 2.99792458e10\n",
    "day = 86400.\n",
    "Msun = 1.9885e33\n",
    "\n",
    "\n",
    "\n",
    "%matplotlib inline\n",
    "%load_ext autoreload\n",
    "%autoreload 2"
   ]
  },
  {
   "cell_type": "code",
   "execution_count": 16,
   "metadata": {},
   "outputs": [
    {
     "name": "stderr",
     "output_type": "stream",
     "text": [
      "/var/folders/qf/j495f6rd5_52r4vxvnhky6jr0000gn/T/ipykernel_1820/2689731801.py:2: FutureWarning: The 'delim_whitespace' keyword in pd.read_csv is deprecated and will be removed in a future version. Use ``sep='\\s+'`` instead\n",
      "  fkappa = pd.read_csv('input_files/effective_kappa_A85_238.dat',delim_whitespace=True,header=None)\n"
     ]
    }
   ],
   "source": [
    "#fkappa = pd.read_csv('effective_kappa_A141_238.dat',delim_whitespace=True,header=None)\n",
    "fkappa = pd.read_csv('input_files/effective_kappa_A85_238.dat',delim_whitespace=True,header=None)\n",
    "#fkappa = pd.read_csv('effective_kappa_141_238.dat',delim_whitespace=True,header=None)\n",
    "\n",
    "kappa_effs = 0.02*np.ones((240,100))\n",
    "for i in range(0,len(fkappa)):\n",
    "    A = fkappa[0][i]\n",
    "    Z = fkappa[1][i]\n",
    "    kappa = np.sqrt(fkappa[3][i]*fkappa[4][i])\n",
    "    kappa_effs[A][Z] = kappa"
   ]
  },
  {
   "cell_type": "code",
   "execution_count": 17,
   "metadata": {},
   "outputs": [
    {
     "name": "stderr",
     "output_type": "stream",
     "text": [
      "/var/folders/qf/j495f6rd5_52r4vxvnhky6jr0000gn/T/ipykernel_1820/2081593275.py:1: FutureWarning: The 'delim_whitespace' keyword in pd.read_csv is deprecated and will be removed in a future version. Use ``sep='\\s+'`` instead\n",
      "  ffraction = pd.read_csv('input_files/solar_r_abundance_pattern.dat',delim_whitespace=True,header=None)\n"
     ]
    }
   ],
   "source": [
    "ffraction = pd.read_csv('input_files/solar_r_abundance_pattern.dat',delim_whitespace=True,header=None)\n",
    "\n",
    "##########Start input parameters\n",
    "Amin = 85\n",
    "Amax = 209\n",
    "\n",
    "##########ejecta parameters for thermalization\n",
    "# Mej = 0.1608*Msun\n",
    "# vej = 0.1*c\n",
    "# n = 4.5\n",
    "# alpha_max = 4.0#v_max = alpha_max * vej\n",
    "# alpha_min = 1.#v_min = alpha_min * vej\n",
    "\n",
    "# #input parameters for the calculation of a light curve\n",
    "# kappa_low = 0.5  #opacity [cm^2/g] for v > v_kappa\n",
    "# kappa_high = 3.0 #opacity [cm^2/g] for v < v_kappa\n",
    "# be_kappa = 0.2"
   ]
  },
  {
   "cell_type": "code",
   "execution_count": 18,
   "metadata": {},
   "outputs": [],
   "source": [
    "\n",
    "def lightcurve(v,alpha_max,alpha_min,n,kappa_low,kappa_high,be_kappa,m1,m2,lambda1,lambda2,b1,constraint = False):\n",
    "    import synphot\n",
    "    from astropy import units as u\n",
    "    c = 2.99792458e10\n",
    "    vej = v*c\n",
    "    msun = 1.9885e33\n",
    "    # G = 6.67e-8  # Gravitational constant\n",
    "\n",
    "    # M_thr = G*M_TOV*Msun/(c**2*R*1e5)\n",
    "\n",
    "    # log_ej = (b1*m1*((1/(0.360-0.0355*np.log(lambda1)+0.000705*np.log(lambda1)**2)) - 1)+ 0.2116*m2*(m1/m2)**(-2.905)-2.42/2)+(b1*m2*((1/(0.360-0.0355*np.log(lambda2)+0.000705*np.log(lambda2)**2)) - 1)+ 0.2116*m1*(m2/m1)**(-2.905)-2.42/2)\n",
    "\n",
    "    # M_dyn = 10**(log_ej)*1.9885e33\n",
    "\n",
    "    # log_M_disc = max(-3,-31.335*(1-0.976*np.arctan((1.0474-(m1+m2)/M_thr)/0.05957)))\n",
    "    # M_disc = 10**(log_M_disc)*1.9885e33\n",
    "\n",
    "\n",
    "    # C1 = Compactness_from_mass(m1)\n",
    "    # C2 = Compactness_from_mass(m2)\n",
    "    # r_16 = radius_from_mass(1.6)\n",
    "\n",
    "    r1 = radius_from_mass(m1)\n",
    "    r2 = radius_from_mass(m2)\n",
    "\n",
    "    # C1 = G*m1/(c**2*r1)\n",
    "    # C2 = G*m2/(c**2*r2)\n",
    "\n",
    "    # log_ej = (b1*m1*((1/C1)- 1)+ 0.2116*m2*(m1/m2)**(-2.905)-2.42/2)+(b1*m2*((1/C2) - 1)+ 0.2116*m1*(m2/m1)**(-2.905)-2.42/2)\n",
    "    # M_dyn = 10**(log_ej)*1.9885e33   ## Coughlin et al. 2019\n",
    "\n",
    "\n",
    "\n",
    "    C1 = Compactness_from_mass(m1)\n",
    "    C2 = Compactness_from_mass(m2)\n",
    "\n",
    "    q = m2/m1\n",
    "\n",
    "    m1_b = ((m1/msun)+(13/200)*(m1/msun)**2)*msun\n",
    "    m2_b = ((m2/msun)+(13/200)*(m2/msun)**2)*msun\n",
    "\n",
    "    M_dyn = (-1.36595*((m2/m1)**(1/3))*(1/C1 - 2) + 6.11252*(m2/m1)**(-2.5484)-49.43355*(1-m1/m1_b))*m1_b +  (-1.36595*((m1/m2)**1/3)*(1/C2 - 2) + 6.11252*(m1/m2)**(-2.5484)-49.43355*(1-m2/m2_b))*m2_b + 16.1144\n",
    "\n",
    "    M_dyn = M_dyn*msun*1e-3 ## Dietrich et al. 2017\n",
    "\n",
    "    \n",
    "    Mej = M_dyn # + M_disc\n",
    "\n",
    "\n",
    "    lamb_t = (16/13)*((m1 + 12 * m2) * (lambda1 * m1**4) + (m2 + 12 * m1) * (lambda2 * m2**4))\n",
    "    lamb_telda = lamb_t/(m1 + m2)**5\n",
    "\n",
    "\n",
    "    # print('Calculated {} for mass ratio {}'.format(Mej,(m2/m1)))\n",
    "\n",
    "    # mass_ej = (-9.335/(0.360-0.0355*np.log(lambda1)+0.000705*np.log(lambda1)**2)+114.17*(m2/m1)**(1.5465)-337.56*(0.360-0.0355*np.log(lambda1)+0.000705*np.log(lambda1)**2))+(-9.335/(0.360-0.0355*np.log(lambda2)+0.000705*np.log(lambda2)**2)+114.17*(m2/m1)**(1.5465)-337.56*(0.360-0.0355*np.log(lambda2)+0.000705*np.log(lambda2)**2))\n",
    "    # Mej = mass_ej*1.9885e30\n",
    "\n",
    "    # if Mej < 0:\n",
    "    #     Mej = 0.0\n",
    "\n",
    "    if lamb_telda > 800:\n",
    "        constraint = False\n",
    "\n",
    "\n",
    "\n",
    "\n",
    "    if constraint == True:\n",
    "        beta = ht.calc_heating_rate(Mej,vej, Amin,Amax,ffraction,kappa_effs,alpha_max,alpha_min,n)\n",
    "        heat_time = np.array(beta['t'])\n",
    "        heat_rate = np.array(beta['electron_th'])+np.array(beta['gamma_th'])\n",
    "\n",
    "        LC = lc.calc_lightcurve(Mej,vej,alpha_max,alpha_min,n,kappa_low,kappa_high,be_kappa,heat_time, heat_rate)\n",
    "\n",
    "        # bandpass_labels = 'ubvri'\n",
    "        # bandpasses = [\n",
    "        # synphot.SpectralElement.from_filter(f'johnson_{label}')\n",
    "        # for label in bandpass_labels]\n",
    "        # seds = [\n",
    "        # synphot.SourceSpectrum(synphot.BlackBody1D, temperature=TT)\n",
    "        # * np.pi * (rr / 3.08567758128E+26)**2\n",
    "        # for TT, rr in zip(LC['T'], LC['R'])]\n",
    "        # abmags = [\n",
    "        # [synphot.Observation(sed, bandpass).effstim(u.ABmag).value for sed in seds]\n",
    "        # for bandpass in bandpasses]\n",
    "\n",
    "        data = {'t':LC['t'],'LC':LC['LC'],'Temp':LC['T'],'Radius':LC['R'],'q':m2/m1}\n",
    "    # df = pd.DataFrame(data=data)\n",
    "    # df.to_csv('output_files/lightcurve.dat',sep=\" \",index=False,header=None,columns=['t', 'LC', 'Temp', 'Radius'])\n",
    "\n",
    "    # from matplotlib import rc\n",
    "    # rc('text', usetex=False)\n",
    "    # fig, ax = plt.subplots(figsize=(6.472135955, 4))\n",
    "    # plt.xlim(0.1,30.)\n",
    "    # plt.ylim(1.0e39,3.0e42)\n",
    "    # plt.ylabel(r\"$L_{\\rm bol}~[{\\rm erg/s}]$\")\n",
    "    # plt.xlabel(r\"${\\rm Time~since~merger~[day]}$\")\n",
    "    # plt.loglog(LC['t'],LC['LC'],label='bolometric',linestyle='-',linewidth=1.5,color='r')\n",
    "    # plt.title(r'EOS = {EOS} M={M}M$_\\odot$ v={v}c'.format(EOS=EOS,M=M,v=v))\n",
    "    else:\n",
    "        data = 0\n",
    "\n",
    "\n",
    "    # plt.legend(loc='lower left',fontsize=14)\n",
    "    # # plt.savefig(\"output_files/LC_A85.pdf\",dpi=600,bbox_inches='tight')\n",
    "    # plt.show()\n",
    "\n",
    "    return data"
   ]
  },
  {
   "cell_type": "code",
   "execution_count": 19,
   "metadata": {},
   "outputs": [
    {
     "name": "stdout",
     "output_type": "stream",
     "text": [
      "Calculation for q = 0.7352941176470588 done\n",
      "Calculation for q = 0.76 done\n",
      "Calculation for q = 0.79 done\n",
      "Calculation for q = 0.82 done\n",
      "Calculation for q = 0.85 done\n",
      "Calculation for q = 0.88 done\n",
      "Calculation for q = 0.8947368421052632 done\n",
      "Calculation for q = 0.8793103448275862 done\n",
      "Calculation for q = 0.864406779661017 done\n",
      "Calculation for q = 0.85 done\n"
     ]
    }
   ],
   "source": [
    "import warnings\n",
    "\n",
    "warnings.filterwarnings(\"ignore\")\n",
    "\n",
    "results = []\n",
    "for i in range(len(m1)):\n",
    "    result =lightcurve(0.1,4.0,1.0,4.5,0.5,3.0,0.2,m1[i],m2[i],lam1[i],lam2[i],-0.0719,constraint=True)\n",
    "    print('Calculation for q = {} done'.format(m2[i]/m1[i]))\n",
    "    results.append(result)\n",
    "\n",
    "results = [i for i in results if i !=0]"
   ]
  },
  {
   "cell_type": "code",
   "execution_count": 20,
   "metadata": {},
   "outputs": [
    {
     "data": {
      "text/plain": [
       "(1e+39, 1e+42)"
      ]
     },
     "execution_count": 20,
     "metadata": {},
     "output_type": "execute_result"
    },
    {
     "data": {
      "image/png": "[encoded data removed]",
      "text/plain": [
       "<Figure size 600x600 with 1 Axes>"
      ]
     },
     "metadata": {},
     "output_type": "display_data"
    }
   ],
   "source": [
    "t = [0.5,0.6,0.8,1.0,1.2,1.5,2.5,3.5,4.5,5.5,6.5,7.5,8.5,9.5,10.5,11.5,12.5,13.5,14.5,15.5,16.5]\n",
    "L_int = [7.82e+41,8.45e+41,7.31e+41,6.15e+41,4.97e+41,3.69e+41,2.44e+41,1.87e+41,1.46e+41,1.16e+41,8.84e+40,6.53e+40,4.69e+40,3.36e+40,2.47e+40,1.96e+40,1.40e+40,9.64e+39,7.33e+39,3.28e+39,2.61e+39]\n",
    "L_bb = [1.2e+42,1.3e+42,7.0e+41,5.5e+41,4.8e+41,3.6e+41,2.3e+41,1.7e+41,1.4e+41,1.0e+41,9.1e+40,7.0e+40,4.5e+40,2.9e+40,2.0e+40,3.0e+40,3.0e+40,2.1e+40,1.7e+40,7.7e+38,7.7e+38]\n",
    "\n",
    "plt.figure(figsize=(6, 6))\n",
    "for i in range(len(results)):\n",
    "    plt.loglog(results[i]['t'],results[i]['LC'],label='q = {}'.format(np.round(results[i]['q'],2)))\n",
    "plt.loglog(t,L_int,label='Data of AT2017gfo',linestyle='--',linewidth=1.5,color='black')\n",
    "#plt.loglog(t,L_bb,label='Data of AT2017gfo',linestyle='--',linewidth=1.5,color='black')\n",
    "plt.legend()\n",
    "plt.ylabel(r\"$L_{\\rm bol}~[{\\rm erg/s}]$\")\n",
    "plt.xlabel(r\"${\\rm Time~since~merger~[day]}$\")\n",
    "plt.title('Lightcurve for different mass ratios and v = 0.4c')\n",
    "plt.xlim(0.1,30.)\n",
    "plt.ylim(1.0e39,1.0e42)"
   ]
  },
  {
   "cell_type": "code",
   "execution_count": null,
   "metadata": {},
   "outputs": [],
   "source": []
  }
 ],
 "metadata": {
  "kernelspec": {
   "display_name": "Thesis",
   "language": "python",
   "name": "python3"
  },
  "language_info": {
   "codemirror_mode": {
    "name": "ipython",
    "version": 3
   },
   "file_extension": ".py",
   "mimetype": "text/x-python",
   "name": "python",
   "nbconvert_exporter": "python",
   "pygments_lexer": "ipython3",
   "version": "3.11.9"
  }
 },
 "nbformat": 4,
 "nbformat_minor": 2
}
